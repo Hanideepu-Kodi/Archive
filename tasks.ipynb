{
 "cells": [
  {
   "cell_type": "markdown",
   "id": "4b01380d",
   "metadata": {},
   "source": [
    "Pages structure\n",
    "\n",
    "----page.js: Login page\n",
    "--|\n",
    "--|----Search\n",
    "        |---page.js\n",
    "--|----Saved\n",
    "        |---page.js\n",
    "--|----Components\n",
    "        | ....."
   ]
  }
 ],
 "metadata": {
  "language_info": {
   "name": "python"
  }
 },
 "nbformat": 4,
 "nbformat_minor": 5
}
